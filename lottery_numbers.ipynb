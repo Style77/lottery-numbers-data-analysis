{
  "nbformat": 4,
  "nbformat_minor": 0,
  "metadata": {
    "colab": {
      "provenance": [],
      "toc_visible": true,
      "authorship_tag": "ABX9TyNboWwD1hmSNWmel0nlIw3p",
      "include_colab_link": true
    },
    "kernelspec": {
      "name": "python3",
      "display_name": "Python 3"
    },
    "language_info": {
      "name": "python"
    }
  },
  "cells": [
    {
      "cell_type": "markdown",
      "metadata": {
        "id": "view-in-github",
        "colab_type": "text"
      },
      "source": [
        "<a href=\"https://colab.research.google.com/github/Style77/lottery-numbers-data-analysis/blob/main/lottery_numbers.ipynb\" target=\"_parent\"><img src=\"https://colab.research.google.com/assets/colab-badge.svg\" alt=\"Open In Colab\"/></a>"
      ]
    },
    {
      "cell_type": "markdown",
      "source": [
        "# Winning lottery numbers data analysis\n",
        "This collab was made for learning data science with entertaining project.\n",
        "\n",
        "Dataset used: https://www.kaggle.com/datasets/stetsondone/lottery-data-winning-numbers-and-jackpots?resource=download"
      ],
      "metadata": {
        "id": "QrNY-FFe5fis"
      }
    },
    {
      "cell_type": "code",
      "execution_count": 47,
      "metadata": {
        "id": "HP_1BjpM5BfJ"
      },
      "outputs": [],
      "source": [
        "# import libraries\n",
        "\n",
        "import pandas as pd\n",
        "import numpy as np\n",
        "import matplotlib.pyplot as plt"
      ]
    },
    {
      "cell_type": "code",
      "source": [
        "# Read data\n",
        "\n",
        "df = pd.read_csv(\"lottery_data.csv\")"
      ],
      "metadata": {
        "id": "kvOnclzm7ZYk"
      },
      "execution_count": 48,
      "outputs": []
    },
    {
      "cell_type": "code",
      "source": [
        "# Reformat data\n",
        "\n",
        "# Split the winning_numbers into separate columns\n",
        "df['winning_numbers_in_list'] = df['winning_numbers'].str.split('-')\n",
        "\n",
        "# Add columns for each individual number\n",
        "for i in range(5):\n",
        "    df[f'number_{i+1}'] = df['winning_numbers_in_list'].apply(lambda x: int(x[i]))"
      ],
      "metadata": {
        "id": "cSK_N6bE7kIX"
      },
      "execution_count": 49,
      "outputs": []
    },
    {
      "cell_type": "markdown",
      "source": [
        "Now we will do some fun things with reformated data.\n",
        "\n",
        "If you are more advanced you can ignore the comments, these are just for me to understand basics of functions."
      ],
      "metadata": {
        "id": "bMS4fLMY8lVT"
      }
    },
    {
      "cell_type": "markdown",
      "source": [
        "# 1. Statistical Summary"
      ],
      "metadata": {
        "id": "XHgAUZr_9B4c"
      }
    },
    {
      "cell_type": "code",
      "source": [
        "numbers = df[['number_1', 'number_2', 'number_3', 'number_4', 'number_5']]\n",
        "mean_numbers = np.mean(numbers)\n",
        "median = np.median(numbers)\n",
        "std_deviation_numbers = np.std(numbers)\n",
        "\n",
        "# Here, we establish the minimum and maximum values for the x'th number.\n",
        "max_num = np.max(numbers)\n",
        "min_num = np.min(numbers)\n",
        "\n",
        "# List comprehension is not needed here, we could use loop, but it's faster and I love to flex with it 😎\n",
        "print(\"Min-max values for x'th:\\n\", '\\n'.join([f\"Number {i}: {min_num[f'number_{i}']}-{max_num[f'number_{i}']}\" for i in range(1, 6)]))\n",
        "print(\"\\nMean Numbers:\\n\", '\\n'.join([f\"Number {i}: {mean_numbers[f'number_{i}']}\" for i in range(1, 6)]))\n",
        "print(\"\\nMedian:\", median)\n",
        "print(\"\\nStandard Deviation:\\n\", '\\n'.join([f\"Number {i}: {std_deviation_numbers[f'number_{i}']}\" for i in range(1, 6)]))"
      ],
      "metadata": {
        "colab": {
          "base_uri": "https://localhost:8080/"
        },
        "id": "sl3fbkV-9F1z",
        "outputId": "a4af2ef2-f3df-4ccc-94e9-4eaff9c3f54f"
      },
      "execution_count": 66,
      "outputs": [
        {
          "output_type": "stream",
          "name": "stdout",
          "text": [
            "Min-max values for x'th:\n",
            " Number 1: 1-51\n",
            "Number 2: 2-61\n",
            "Number 3: 3-64\n",
            "Number 4: 7-68\n",
            "Number 5: 22-69\n",
            "\n",
            "Mean Numbers:\n",
            " Number 1: 11.92\n",
            "Number 2: 23.049473684210525\n",
            "Number 3: 34.6\n",
            "Number 4: 45.92315789473684\n",
            "Number 5: 56.96421052631579\n",
            "\n",
            "Median: 34.0\n",
            "\n",
            "Standard Deviation:\n",
            " Number 1: 9.527904723550327\n",
            "Number 2: 11.963658775723212\n",
            "Number 3: 12.664247229691027\n",
            "Number 4: 12.25884816974064\n",
            "Number 5: 10.110795853827923\n"
          ]
        },
        {
          "output_type": "stream",
          "name": "stderr",
          "text": [
            "/usr/local/lib/python3.10/dist-packages/numpy/core/fromnumeric.py:3430: FutureWarning: In a future version, DataFrame.mean(axis=None) will return a scalar mean over the entire DataFrame. To retain the old behavior, use 'frame.mean(axis=0)' or just 'frame.mean()'\n",
            "  return mean(axis=axis, dtype=dtype, out=out, **kwargs)\n",
            "/usr/local/lib/python3.10/dist-packages/numpy/core/fromnumeric.py:84: FutureWarning: In a future version, DataFrame.max(axis=None) will return a scalar max over the entire DataFrame. To retain the old behavior, use 'frame.max(axis=0)' or just 'frame.max()'\n",
            "  return reduction(axis=axis, out=out, **passkwargs)\n",
            "/usr/local/lib/python3.10/dist-packages/numpy/core/fromnumeric.py:84: FutureWarning: In a future version, DataFrame.min(axis=None) will return a scalar min over the entire DataFrame. To retain the old behavior, use 'frame.min(axis=0)' or just 'frame.min()'\n",
            "  return reduction(axis=axis, out=out, **passkwargs)\n"
          ]
        }
      ]
    },
    {
      "cell_type": "markdown",
      "source": [
        "# 2. Number Frequency"
      ],
      "metadata": {
        "id": "nJkjv4Wp87JD"
      }
    },
    {
      "cell_type": "code",
      "source": [
        "number_frequencies = numbers.stack().value_counts().sort_index()\n",
        "\n",
        "plt.bar(number_frequencies.index, number_frequencies.values)\n",
        "plt.xlabel(\"Winning Number\")\n",
        "plt.ylabel(\"Frequency\")\n",
        "plt.title(\"Winning Number Frequencies\")\n",
        "plt.show()"
      ],
      "metadata": {
        "colab": {
          "base_uri": "https://localhost:8080/",
          "height": 472
        },
        "id": "ksvJ7ATN84Ti",
        "outputId": "617b66bf-c323-4c9a-c40d-361e75d05251"
      },
      "execution_count": 51,
      "outputs": [
        {
          "output_type": "display_data",
          "data": {
            "text/plain": [
              "<Figure size 640x480 with 1 Axes>"
            ],
            "image/png": "[encoded data removed]"
          },
          "metadata": {}
        }
      ]
    },
    {
      "cell_type": "markdown",
      "source": [
        "# 3. Winning numbers"
      ],
      "metadata": {
        "id": "Vv8__JkEAnDm"
      }
    },
    {
      "cell_type": "code",
      "source": [
        "winning_numbers = []\n",
        "losing_numbers = []\n",
        "for i in range(1, 6):\n",
        "    winning_numbers.append(str(numbers[f'number_{i}'].value_counts().sort_values(ascending=False).index[0]))\n",
        "    losing_numbers.append(str(numbers[f'number_{i}'].value_counts().sort_values(ascending=True).index[0]))\n",
        "\n",
        "# Try this number on your next lottery!\n",
        "print('Winning numbers: ', '-'.join(winning_numbers))\n",
        "# And avoid this numbers!\n",
        "print('Losing numbers: ', '-'.join(losing_numbers))"
      ],
      "metadata": {
        "colab": {
          "base_uri": "https://localhost:8080/"
        },
        "id": "m9lbATKTAtGE",
        "outputId": "1a377834-2f2f-4091-f1f7-9824f5464646"
      },
      "execution_count": 64,
      "outputs": [
        {
          "output_type": "stream",
          "name": "stdout",
          "text": [
            "Winning numbers:  1-15-37-45-69\n",
            "Losing numbers:  36-58-3-7-22\n"
          ]
        }
      ]
    },
    {
      "cell_type": "markdown",
      "source": [
        "# 4. Which numbers were most frequent"
      ],
      "metadata": {
        "id": "jLa1aIqlCkQH"
      }
    },
    {
      "cell_type": "code",
      "source": [
        "print(df[[\"winning_numbers\"]].stack().value_counts().sort_values(ascending=False))\n",
        "# As we can see none were more than once (In this specific order)"
      ],
      "metadata": {
        "colab": {
          "base_uri": "https://localhost:8080/"
        },
        "id": "AKCDCuM9Cgy9",
        "outputId": "64880d84-5c70-48dd-f832-c024fcb740f7"
      },
      "execution_count": 53,
      "outputs": [
        {
          "output_type": "stream",
          "name": "stdout",
          "text": [
            "17-29-31-48-49    1\n",
            "5-6-37-41-54      1\n",
            "10-20-25-50-53    1\n",
            "7-33-39-52-55     1\n",
            "23-32-39-47-49    1\n",
            "                 ..\n",
            "6-8-15-27-42      1\n",
            "19-25-48-55-60    1\n",
            "18-23-35-45-54    1\n",
            "19-36-37-46-56    1\n",
            "2-11-22-35-60     1\n",
            "Length: 950, dtype: int64\n"
          ]
        }
      ]
    }
  ]
}